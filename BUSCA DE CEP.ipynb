{
 "cells": [
  {
   "cell_type": "code",
   "execution_count": 1,
   "id": "04d98992",
   "metadata": {},
   "outputs": [],
   "source": [
    "from selenium import webdriver\n",
    "from selenium.webdriver.common.by import By\n",
    "\n",
    "navegador=webdriver.Chrome()\n",
    "\n",
    "navegador.get(\"https://buscacepinter.correios.com.br/app/endereco/index.php\")\n",
    "\n",
    "element = navegador.find_element(By.ID,\"endereco\").send_keys(\"15370-496\")\n",
    "\n",
    "element= navegador.find_element(By.ID,\"btn_pesquisar\").click()\n"
   ]
  },
  {
   "cell_type": "code",
   "execution_count": null,
   "id": "e61075ca",
   "metadata": {},
   "outputs": [],
   "source": []
  }
 ],
 "metadata": {
  "kernelspec": {
   "display_name": "Python 3 (ipykernel)",
   "language": "python",
   "name": "python3"
  },
  "language_info": {
   "codemirror_mode": {
    "name": "ipython",
    "version": 3
   },
   "file_extension": ".py",
   "mimetype": "text/x-python",
   "name": "python",
   "nbconvert_exporter": "python",
   "pygments_lexer": "ipython3",
   "version": "3.9.7"
  }
 },
 "nbformat": 4,
 "nbformat_minor": 5
}
